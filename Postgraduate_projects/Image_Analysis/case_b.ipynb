{
  "cells": [
    {
      "cell_type": "markdown",
      "id": "63c14ef4-4de5-476d-ac2a-7f59ff00f230",
      "metadata": {
        "id": "63c14ef4-4de5-476d-ac2a-7f59ff00f230"
      },
      "source": [
        "# Exercise 3.2"
      ]
    },
    {
      "cell_type": "code",
      "execution_count": 7,
      "id": "2806ff98-84f2-4ed0-b2ce-652e24e22ba1",
      "metadata": {
        "id": "2806ff98-84f2-4ed0-b2ce-652e24e22ba1"
      },
      "outputs": [],
      "source": [
        "import torch\n",
        "from PIL import Image\n",
        "from torchvision import transforms\n",
        "import matplotlib.pyplot as plt\n",
        "import pickle\n",
        "from collections import OrderedDict\n",
        "import torch.nn as nn\n",
        "import torch.optim as optim\n",
        "from torch.utils.data import Dataset, DataLoader\n",
        "import numpy as np\n",
        "import pandas as pd\n",
        "from sklearn.metrics import confusion_matrix, precision_score, recall_score, accuracy_score\n",
        "from tqdm import tqdm\n",
        "from sklearn.model_selection import train_test_split\n"
      ]
    },
    {
      "cell_type": "code",
      "execution_count": 8,
      "id": "02ecddfa",
      "metadata": {
        "id": "02ecddfa"
      },
      "outputs": [],
      "source": [
        "# Define the model\n",
        "case = 'b'\n",
        "num_classes = 10\n",
        "num_epochs = 500"
      ]
    },
    {
      "cell_type": "code",
      "execution_count": 9,
      "id": "LhuNzU6OfT08",
      "metadata": {
        "colab": {
          "base_uri": "https://localhost:8080/"
        },
        "id": "LhuNzU6OfT08",
        "outputId": "182f8434-5d7a-4bd7-854b-2c90357a7793"
      },
      "outputs": [
        {
          "name": "stdout",
          "output_type": "stream",
          "text": [
            "Train: 31500, Validation: 6300, Test: 4200\n"
          ]
        }
      ],
      "source": [
        "# 3. Define model for case 'a'\n",
        "case = 'a'\n",
        "num_classes = 10\n",
        "num_epochs = 500\n",
        "\n",
        "if case == 'a':\n",
        "    inputs, n_hidden0, n_hidden1, out = 784*3, 64, 16, 10\n",
        "    ckpt_pth = 'best_model_NN.pth'\n",
        "    model = nn.Sequential(\n",
        "        nn.Linear(inputs, n_hidden0, bias=True),\n",
        "        nn.Tanh(),\n",
        "        nn.Linear(n_hidden0, n_hidden1, bias=True),\n",
        "        nn.Tanh(),\n",
        "        nn.Linear(n_hidden1, out, bias=True),\n",
        "        nn.Softmax(dim=1)\n",
        "    ).to('cuda')\n",
        "elif case == 'b':\n",
        "    ckpt_pth = 'best_model_CNN.pth'\n",
        "    preprocess = transforms.Compose([\n",
        "        transforms.Resize(256),\n",
        "        transforms.CenterCrop(224),\n",
        "        transforms.ToTensor(),\n",
        "        transforms.Normalize(mean=[0.485, 0.456, 0.406], std=[0.229, 0.224, 0.225]),\n",
        "    ])\n",
        "    model = torch.hub.load('pytorch/vision:v0.10.0', 'alexnet', pretrained=True)\n",
        "    model.classifier[6] = nn.Linear(4096, num_classes)\n",
        "    model = model.to('cuda')\n",
        "else:\n",
        "    raise ValueError('Case choice is invalid')\n",
        "\n",
        "model.train()\n",
        "\n",
        "#load data\n",
        "dev_path = './data/0_development_data.pkl'\n",
        "test_path = './data/0_test_data.pkl'\n",
        "\n",
        "with open(dev_path, 'rb') as f:\n",
        "    devel_data = pickle.load(f)\n",
        "\n",
        "with open(test_path, 'rb') as f:\n",
        "    test_data = pickle.load(f)\n",
        "\n",
        "#combine\n",
        "combined_imgs = devel_data[0] + test_data[0]\n",
        "combined_labels = [int(i[0].split('/')[-2]) for i in combined_imgs]\n",
        "\n",
        "#split train and test\n",
        "train_imgs, temp_imgs, train_labels, temp_labels = train_test_split(\n",
        "    combined_imgs, combined_labels, test_size=0.25, stratify=combined_labels, random_state=42)\n",
        "\n",
        "#Split train and val\n",
        "val_imgs, test_imgs, val_labels, test_labels = train_test_split(\n",
        "    temp_imgs, temp_labels, test_size=0.4, stratify=temp_labels, random_state=42)\n",
        "\n",
        "#check counts\n",
        "print(f\"Train: {len(train_imgs)}, Validation: {len(val_imgs)}, Test: {len(test_imgs)}\")"
      ]
    },
    {
      "cell_type": "code",
      "execution_count": 10,
      "id": "b50f5450-95ef-4f9f-995a-47244d3adb0e",
      "metadata": {
        "id": "b50f5450-95ef-4f9f-995a-47244d3adb0e"
      },
      "outputs": [],
      "source": [
        "\n",
        "class CustomDataset(Dataset):\n",
        "    def __init__(self, image_list, labels, transform=None):\n",
        "        self.image_list = image_list\n",
        "        self.labels = labels\n",
        "        self.transform = transform\n",
        "\n",
        "    def __len__(self):\n",
        "        return len(self.image_list)\n",
        "\n",
        "    def __getitem__(self, idx):\n",
        "        if case == 'a':\n",
        "            image = self.image_list[idx].astype(float)\n",
        "            image /= 255.0\n",
        "            image -= np.sum(np.sum(image, 0), 0) / (image.shape[0] * image.shape[1])\n",
        "        elif case == 'b':\n",
        "            img_tmp = self.image_list[idx]\n",
        "            image = preprocess(Image.fromarray(img_tmp))\n",
        "        label = self.labels[idx]\n",
        "        return image, label\n",
        "\n",
        "criterion = nn.CrossEntropyLoss()\n",
        "if case == 'a':\n",
        "    optimizer = optim.Adam(model.parameters(), lr=0.001, betas=(0.9, 0.999), eps=1e-08, weight_decay=0, amsgrad=False)\n",
        "else:\n",
        "    optimizer = optim.SGD(model.parameters(), lr=0.001, momentum=0.9)\n",
        "\n",
        "train_array_list = [i[1] for i in train_imgs]\n",
        "val_array_list = [i[1] for i in val_imgs]\n",
        "test_array_list = [i[1] for i in test_imgs]\n",
        "\n",
        "dataset_train = CustomDataset(train_array_list, train_labels, transform=None)\n",
        "dataset_val = CustomDataset(val_array_list, val_labels, transform=None)\n",
        "dataset_test = CustomDataset(test_array_list, test_labels, transform=None)\n",
        "\n",
        "batch_size = 32\n",
        "dataloader_train = DataLoader(dataset_train, batch_size=batch_size, shuffle=True)\n",
        "dataloader_val = DataLoader(dataset_val, batch_size=batch_size, shuffle=True)\n",
        "dataloader_test = DataLoader(dataset_test, batch_size=batch_size, shuffle=False)"
      ]
    },
    {
      "cell_type": "code",
      "execution_count": 11,
      "id": "fdbbda5d-29c2-4698-8a56-e570ef1ded48",
      "metadata": {
        "colab": {
          "base_uri": "https://localhost:8080/"
        },
        "id": "fdbbda5d-29c2-4698-8a56-e570ef1ded48",
        "outputId": "6e3a1f90-3f02-4826-f911-003a862c1433",
        "scrolled": false
      },
      "outputs": [
        {
          "name": "stderr",
          "output_type": "stream",
          "text": [
            "100%|██████████| 985/985 [00:03<00:00, 266.18it/s]\n",
            "100%|██████████| 197/197 [00:00<00:00, 574.65it/s]\n"
          ]
        },
        {
          "name": "stdout",
          "output_type": "stream",
          "text": [
            "Epoch 1, Train loss: 1.622951765713958, Val loss: 1.5112204013137043\n"
          ]
        },
        {
          "name": "stderr",
          "output_type": "stream",
          "text": [
            "100%|██████████| 985/985 [00:02<00:00, 345.44it/s]\n",
            "100%|██████████| 197/197 [00:00<00:00, 565.81it/s]\n"
          ]
        },
        {
          "name": "stdout",
          "output_type": "stream",
          "text": [
            "Epoch 2, Train loss: 1.49711089775647, Val loss: 1.4934296390126804\n"
          ]
        },
        {
          "name": "stderr",
          "output_type": "stream",
          "text": [
            "100%|██████████| 985/985 [00:03<00:00, 317.99it/s]\n",
            "100%|██████████| 197/197 [00:00<00:00, 510.62it/s]\n"
          ]
        },
        {
          "name": "stdout",
          "output_type": "stream",
          "text": [
            "Epoch 3, Train loss: 1.4841949969983947, Val loss: 1.4879783742924027\n"
          ]
        },
        {
          "name": "stderr",
          "output_type": "stream",
          "text": [
            "100%|██████████| 985/985 [00:02<00:00, 338.33it/s]\n",
            "100%|██████████| 197/197 [00:00<00:00, 566.88it/s]\n"
          ]
        },
        {
          "name": "stdout",
          "output_type": "stream",
          "text": [
            "Epoch 4, Train loss: 1.4788765031069064, Val loss: 1.4832926522656746\n"
          ]
        },
        {
          "name": "stderr",
          "output_type": "stream",
          "text": [
            "100%|██████████| 985/985 [00:02<00:00, 342.65it/s]\n",
            "100%|██████████| 197/197 [00:00<00:00, 539.81it/s]\n"
          ]
        },
        {
          "name": "stdout",
          "output_type": "stream",
          "text": [
            "Epoch 5, Train loss: 1.47473212764953, Val loss: 1.484703394362164\n"
          ]
        },
        {
          "name": "stderr",
          "output_type": "stream",
          "text": [
            "100%|██████████| 985/985 [00:02<00:00, 343.95it/s]\n",
            "100%|██████████| 197/197 [00:00<00:00, 572.66it/s]\n"
          ]
        },
        {
          "name": "stdout",
          "output_type": "stream",
          "text": [
            "Epoch 6, Train loss: 1.4720944148029773, Val loss: 1.4847315682977589\n"
          ]
        },
        {
          "name": "stderr",
          "output_type": "stream",
          "text": [
            "100%|██████████| 985/985 [00:03<00:00, 319.99it/s]\n",
            "100%|██████████| 197/197 [00:00<00:00, 558.45it/s]\n"
          ]
        },
        {
          "name": "stdout",
          "output_type": "stream",
          "text": [
            "Epoch 7, Train loss: 1.4705125786931381, Val loss: 1.478776863988886\n"
          ]
        },
        {
          "name": "stderr",
          "output_type": "stream",
          "text": [
            "100%|██████████| 985/985 [00:02<00:00, 338.77it/s]\n",
            "100%|██████████| 197/197 [00:00<00:00, 576.30it/s]\n"
          ]
        },
        {
          "name": "stdout",
          "output_type": "stream",
          "text": [
            "Epoch 8, Train loss: 1.4692434360533195, Val loss: 1.478046140089858\n"
          ]
        },
        {
          "name": "stderr",
          "output_type": "stream",
          "text": [
            "100%|██████████| 985/985 [00:02<00:00, 341.86it/s]\n",
            "100%|██████████| 197/197 [00:00<00:00, 561.71it/s]\n"
          ]
        },
        {
          "name": "stdout",
          "output_type": "stream",
          "text": [
            "Epoch 9, Train loss: 1.4686849156006945, Val loss: 1.4813188780382804\n"
          ]
        },
        {
          "name": "stderr",
          "output_type": "stream",
          "text": [
            "100%|██████████| 985/985 [00:02<00:00, 337.64it/s]\n",
            "100%|██████████| 197/197 [00:00<00:00, 493.14it/s]\n"
          ]
        },
        {
          "name": "stdout",
          "output_type": "stream",
          "text": [
            "Epoch 10, Train loss: 1.4669014429683007, Val loss: 1.4783013072715798\n"
          ]
        },
        {
          "name": "stderr",
          "output_type": "stream",
          "text": [
            "100%|██████████| 985/985 [00:02<00:00, 330.34it/s]\n",
            "100%|██████████| 197/197 [00:00<00:00, 559.92it/s]\n"
          ]
        },
        {
          "name": "stdout",
          "output_type": "stream",
          "text": [
            "Epoch 11, Train loss: 1.4659076121857928, Val loss: 1.4778112832664838\n"
          ]
        },
        {
          "name": "stderr",
          "output_type": "stream",
          "text": [
            "100%|██████████| 985/985 [00:02<00:00, 342.44it/s]\n",
            "100%|██████████| 197/197 [00:00<00:00, 576.44it/s]\n"
          ]
        },
        {
          "name": "stdout",
          "output_type": "stream",
          "text": [
            "Epoch 12, Train loss: 1.4663910899670596, Val loss: 1.4754367153051542\n"
          ]
        },
        {
          "name": "stderr",
          "output_type": "stream",
          "text": [
            "100%|██████████| 985/985 [00:02<00:00, 341.09it/s]\n",
            "100%|██████████| 197/197 [00:00<00:00, 555.56it/s]\n"
          ]
        },
        {
          "name": "stdout",
          "output_type": "stream",
          "text": [
            "Epoch 13, Train loss: 1.4649344760149263, Val loss: 1.4765010932980456\n"
          ]
        },
        {
          "name": "stderr",
          "output_type": "stream",
          "text": [
            "100%|██████████| 985/985 [00:03<00:00, 320.19it/s]\n",
            "100%|██████████| 197/197 [00:00<00:00, 506.05it/s]\n"
          ]
        },
        {
          "name": "stdout",
          "output_type": "stream",
          "text": [
            "Epoch 14, Train loss: 1.4658164145377688, Val loss: 1.475978303076652\n"
          ]
        },
        {
          "name": "stderr",
          "output_type": "stream",
          "text": [
            "100%|██████████| 985/985 [00:02<00:00, 348.10it/s]\n",
            "100%|██████████| 197/197 [00:00<00:00, 563.33it/s]\n"
          ]
        },
        {
          "name": "stdout",
          "output_type": "stream",
          "text": [
            "Epoch 15, Train loss: 1.4645060930155256, Val loss: 1.4809766324038434\n"
          ]
        },
        {
          "name": "stderr",
          "output_type": "stream",
          "text": [
            "100%|██████████| 985/985 [00:02<00:00, 346.71it/s]\n",
            "100%|██████████| 197/197 [00:00<00:00, 576.30it/s]\n"
          ]
        },
        {
          "name": "stdout",
          "output_type": "stream",
          "text": [
            "Epoch 16, Train loss: 1.4652079908980935, Val loss: 1.4756105351569084\n"
          ]
        },
        {
          "name": "stderr",
          "output_type": "stream",
          "text": [
            "100%|██████████| 985/985 [00:02<00:00, 344.91it/s]\n",
            "100%|██████████| 197/197 [00:00<00:00, 577.41it/s]\n"
          ]
        },
        {
          "name": "stdout",
          "output_type": "stream",
          "text": [
            "Epoch 17, Train loss: 1.4647767472388176, Val loss: 1.4788777773755455\n"
          ]
        },
        {
          "name": "stderr",
          "output_type": "stream",
          "text": [
            "100%|██████████| 985/985 [00:03<00:00, 321.50it/s]\n",
            "100%|██████████| 197/197 [00:00<00:00, 579.77it/s]\n"
          ]
        },
        {
          "name": "stdout",
          "output_type": "stream",
          "text": [
            "Epoch 18, Train loss: 1.4640889181098358, Val loss: 1.4748914144971044\n"
          ]
        },
        {
          "name": "stderr",
          "output_type": "stream",
          "text": [
            "100%|██████████| 985/985 [00:02<00:00, 335.52it/s]\n",
            "100%|██████████| 197/197 [00:00<00:00, 565.86it/s]\n"
          ]
        },
        {
          "name": "stdout",
          "output_type": "stream",
          "text": [
            "Epoch 19, Train loss: 1.4640030819752494, Val loss: 1.4775362940609154\n"
          ]
        },
        {
          "name": "stderr",
          "output_type": "stream",
          "text": [
            "100%|██████████| 985/985 [00:02<00:00, 341.65it/s]\n",
            "100%|██████████| 197/197 [00:00<00:00, 574.41it/s]\n"
          ]
        },
        {
          "name": "stdout",
          "output_type": "stream",
          "text": [
            "Epoch 20, Train loss: 1.4643894014019652, Val loss: 1.4777733704765437\n"
          ]
        },
        {
          "name": "stderr",
          "output_type": "stream",
          "text": [
            "100%|██████████| 985/985 [00:02<00:00, 334.71it/s]\n",
            "100%|██████████| 197/197 [00:00<00:00, 497.36it/s]\n"
          ]
        },
        {
          "name": "stdout",
          "output_type": "stream",
          "text": [
            "Epoch 21, Train loss: 1.463743988511526, Val loss: 1.4753190636029703\n"
          ]
        },
        {
          "name": "stderr",
          "output_type": "stream",
          "text": [
            "100%|██████████| 985/985 [00:02<00:00, 332.02it/s]\n",
            "100%|██████████| 197/197 [00:00<00:00, 581.16it/s]\n"
          ]
        },
        {
          "name": "stdout",
          "output_type": "stream",
          "text": [
            "Epoch 22, Train loss: 1.4635030990929774, Val loss: 1.4760219542508197\n"
          ]
        },
        {
          "name": "stderr",
          "output_type": "stream",
          "text": [
            "100%|██████████| 985/985 [00:02<00:00, 340.27it/s]\n",
            "100%|██████████| 197/197 [00:00<00:00, 575.10it/s]\n"
          ]
        },
        {
          "name": "stdout",
          "output_type": "stream",
          "text": [
            "Epoch 23, Train loss: 1.464244614639863, Val loss: 1.4755261906512498\n"
          ]
        },
        {
          "name": "stderr",
          "output_type": "stream",
          "text": [
            "100%|██████████| 985/985 [00:02<00:00, 341.14it/s]\n",
            "100%|██████████| 197/197 [00:00<00:00, 581.82it/s]\n"
          ]
        },
        {
          "name": "stdout",
          "output_type": "stream",
          "text": [
            "Epoch 24, Train loss: 1.463761132380684, Val loss: 1.4764693140378458\n"
          ]
        },
        {
          "name": "stderr",
          "output_type": "stream",
          "text": [
            "100%|██████████| 985/985 [00:03<00:00, 323.07it/s]\n",
            "100%|██████████| 197/197 [00:00<00:00, 505.93it/s]\n"
          ]
        },
        {
          "name": "stdout",
          "output_type": "stream",
          "text": [
            "Epoch 25, Train loss: 1.463625125110452, Val loss: 1.4748773096781698\n"
          ]
        },
        {
          "name": "stderr",
          "output_type": "stream",
          "text": [
            "100%|██████████| 985/985 [00:02<00:00, 339.60it/s]\n",
            "100%|██████████| 197/197 [00:00<00:00, 575.21it/s]\n"
          ]
        },
        {
          "name": "stdout",
          "output_type": "stream",
          "text": [
            "Epoch 26, Train loss: 1.4636318574702074, Val loss: 1.473048242820701\n"
          ]
        },
        {
          "name": "stderr",
          "output_type": "stream",
          "text": [
            "100%|██████████| 985/985 [00:02<00:00, 343.94it/s]\n",
            "100%|██████████| 197/197 [00:00<00:00, 549.76it/s]\n"
          ]
        },
        {
          "name": "stdout",
          "output_type": "stream",
          "text": [
            "Epoch 27, Train loss: 1.4640035897947206, Val loss: 1.4733191668079588\n"
          ]
        },
        {
          "name": "stderr",
          "output_type": "stream",
          "text": [
            "100%|██████████| 985/985 [00:02<00:00, 339.61it/s]\n",
            "100%|██████████| 197/197 [00:00<00:00, 568.59it/s]\n"
          ]
        },
        {
          "name": "stdout",
          "output_type": "stream",
          "text": [
            "Epoch 28, Train loss: 1.4628771633061055, Val loss: 1.4725932578750067\n"
          ]
        },
        {
          "name": "stderr",
          "output_type": "stream",
          "text": [
            "100%|██████████| 985/985 [00:03<00:00, 318.68it/s]\n",
            "100%|██████████| 197/197 [00:00<00:00, 568.79it/s]\n"
          ]
        },
        {
          "name": "stdout",
          "output_type": "stream",
          "text": [
            "Epoch 29, Train loss: 1.4625492086265293, Val loss: 1.4733664711114718\n"
          ]
        },
        {
          "name": "stderr",
          "output_type": "stream",
          "text": [
            "100%|██████████| 985/985 [00:02<00:00, 345.17it/s]\n",
            "100%|██████████| 197/197 [00:00<00:00, 561.68it/s]\n"
          ]
        },
        {
          "name": "stdout",
          "output_type": "stream",
          "text": [
            "Epoch 30, Train loss: 1.4633785990894144, Val loss: 1.4733482314850472\n"
          ]
        },
        {
          "name": "stderr",
          "output_type": "stream",
          "text": [
            "100%|██████████| 985/985 [00:02<00:00, 346.74it/s]\n",
            "100%|██████████| 197/197 [00:00<00:00, 575.53it/s]\n"
          ]
        },
        {
          "name": "stdout",
          "output_type": "stream",
          "text": [
            "Epoch 31, Train loss: 1.4642021875091011, Val loss: 1.475026589964852\n"
          ]
        },
        {
          "name": "stderr",
          "output_type": "stream",
          "text": [
            "100%|██████████| 985/985 [00:02<00:00, 334.00it/s]\n",
            "100%|██████████| 197/197 [00:00<00:00, 497.54it/s]\n"
          ]
        },
        {
          "name": "stdout",
          "output_type": "stream",
          "text": [
            "Epoch 32, Train loss: 1.4635250316658601, Val loss: 1.4758414846991526\n"
          ]
        },
        {
          "name": "stderr",
          "output_type": "stream",
          "text": [
            "100%|██████████| 985/985 [00:02<00:00, 330.47it/s]\n",
            "100%|██████████| 197/197 [00:00<00:00, 566.25it/s]\n"
          ]
        },
        {
          "name": "stdout",
          "output_type": "stream",
          "text": [
            "Epoch 33, Train loss: 1.4633169532427328, Val loss: 1.474968404939332\n"
          ]
        },
        {
          "name": "stderr",
          "output_type": "stream",
          "text": [
            "100%|██████████| 985/985 [00:02<00:00, 339.65it/s]\n",
            "100%|██████████| 197/197 [00:00<00:00, 571.33it/s]\n"
          ]
        },
        {
          "name": "stdout",
          "output_type": "stream",
          "text": [
            "Epoch 34, Train loss: 1.4625386685889386, Val loss: 1.4734034568525207\n"
          ]
        },
        {
          "name": "stderr",
          "output_type": "stream",
          "text": [
            "100%|██████████| 985/985 [00:02<00:00, 341.52it/s]\n",
            "100%|██████████| 197/197 [00:00<00:00, 571.81it/s]\n"
          ]
        },
        {
          "name": "stdout",
          "output_type": "stream",
          "text": [
            "Epoch 35, Train loss: 1.4627826641053718, Val loss: 1.4762584999733164\n"
          ]
        },
        {
          "name": "stderr",
          "output_type": "stream",
          "text": [
            "100%|██████████| 985/985 [00:03<00:00, 323.07it/s]\n",
            "100%|██████████| 197/197 [00:00<00:00, 493.16it/s]\n"
          ]
        },
        {
          "name": "stdout",
          "output_type": "stream",
          "text": [
            "Epoch 36, Train loss: 1.463599018397065, Val loss: 1.474071706612098\n"
          ]
        },
        {
          "name": "stderr",
          "output_type": "stream",
          "text": [
            "100%|██████████| 985/985 [00:02<00:00, 332.31it/s]\n",
            "100%|██████████| 197/197 [00:00<00:00, 569.53it/s]\n"
          ]
        },
        {
          "name": "stdout",
          "output_type": "stream",
          "text": [
            "Epoch 37, Train loss: 1.4627684539949835, Val loss: 1.4735093177272585\n"
          ]
        },
        {
          "name": "stderr",
          "output_type": "stream",
          "text": [
            "100%|██████████| 985/985 [00:02<00:00, 339.18it/s]\n",
            "100%|██████████| 197/197 [00:00<00:00, 570.49it/s]"
          ]
        },
        {
          "name": "stdout",
          "output_type": "stream",
          "text": [
            "-------- Early Stopping ------------\n",
            "Epoch 38, Train loss: 1.463510664344439, Val loss: 1.4752131282980672\n"
          ]
        },
        {
          "name": "stderr",
          "output_type": "stream",
          "text": [
            "\n"
          ]
        }
      ],
      "source": [
        "# Training loop\n",
        "early_stopping_patience = 10\n",
        "\n",
        "best_val_loss = 10000.0\n",
        "for epoch in range(num_epochs):\n",
        "    running_loss, running_val_loss = 0.0, 0.0\n",
        "    model.train()\n",
        "    for inputs_, labels_ in tqdm(dataloader_train):\n",
        "\n",
        "        if case == 'a': inputs_ = torch.reshape(inputs_, (inputs_.shape[0], -1))\n",
        "        inputs_, labels_ = inputs_.to(torch.float).to('cuda'), labels_.to('cuda')\n",
        "        optimizer.zero_grad()\n",
        "        outputs = model(inputs_)\n",
        "        loss = criterion(outputs, labels_)\n",
        "        loss.backward()\n",
        "        optimizer.step()\n",
        "        running_loss += loss.item()\n",
        "\n",
        "    model.eval()\n",
        "    with torch.no_grad():\n",
        "        for inputs_val, labels_val in tqdm(dataloader_val):\n",
        "            if case == 'a': inputs_val = torch.reshape(inputs_val, (inputs_val.shape[0], -1))\n",
        "            inputs_val, labels_val = inputs_val.to(torch.float).to('cuda'), labels_val.to('cuda')\n",
        "            outputs_val = model(inputs_val)\n",
        "            val_loss = criterion(outputs_val, labels_val)\n",
        "            running_val_loss += val_loss.item()\n",
        "\n",
        "    epoch_val_loss = running_val_loss/len(dataloader_val)\n",
        "    if epoch_val_loss < best_val_loss:\n",
        "        early_stopping_counter = 0\n",
        "        best_val_loss = float(epoch_val_loss)\n",
        "        torch.save(model.state_dict(), ckpt_pth)\n",
        "    else:\n",
        "        early_stopping_counter += 1\n",
        "        if early_stopping_counter==early_stopping_patience:\n",
        "            print('-------- Early Stopping ------------')\n",
        "            print(f'Epoch {epoch+1}, Train loss: {running_loss/len(dataloader_train)}, Val loss: {running_val_loss/len(dataloader_val)}')\n",
        "            break\n",
        "\n",
        "    print(f'Epoch {epoch+1}, Train loss: {running_loss/len(dataloader_train)}, Val loss: {epoch_val_loss}')"
      ]
    },
    {
      "cell_type": "code",
      "execution_count": 12,
      "id": "5b91e72f-1667-4dbe-9b54-f9cb84542824",
      "metadata": {
        "colab": {
          "base_uri": "https://localhost:8080/"
        },
        "id": "5b91e72f-1667-4dbe-9b54-f9cb84542824",
        "outputId": "f91e2aeb-43a8-49f3-b53c-df2acfa1e5f1"
      },
      "outputs": [
        {
          "data": {
            "text/plain": [
              "Sequential(\n",
              "  (0): Linear(in_features=2352, out_features=64, bias=True)\n",
              "  (1): Tanh()\n",
              "  (2): Linear(in_features=64, out_features=16, bias=True)\n",
              "  (3): Tanh()\n",
              "  (4): Linear(in_features=16, out_features=10, bias=True)\n",
              "  (5): Softmax(dim=1)\n",
              ")"
            ]
          },
          "execution_count": 12,
          "metadata": {},
          "output_type": "execute_result"
        }
      ],
      "source": [
        "# Make predictions on the train data\n",
        "model.load_state_dict(torch.load(ckpt_pth, weights_only=True))\n",
        "model.eval()"
      ]
    },
    {
      "cell_type": "code",
      "execution_count": 13,
      "id": "23a0db36-5b2b-44f9-8210-f94641d522ba",
      "metadata": {
        "id": "23a0db36-5b2b-44f9-8210-f94641d522ba"
      },
      "outputs": [],
      "source": [
        "# Inference function\n",
        "def get_predictions(input_batch, model):\n",
        "\n",
        "    # move the input and model to GPU for speed if available\n",
        "    if torch.cuda.is_available():\n",
        "        input_batch = input_batch.to('cuda')\n",
        "        model.to('cuda')\n",
        "\n",
        "    with torch.no_grad():\n",
        "        output = model(input_batch)\n",
        "\n",
        "    probabilities = torch.nn.functional.softmax(output, dim=1)\n",
        "    return probabilities"
      ]
    },
    {
      "cell_type": "code",
      "execution_count": 14,
      "id": "3b11e70b-44ba-485b-a5a6-f8dd5c6009cd",
      "metadata": {
        "colab": {
          "base_uri": "https://localhost:8080/"
        },
        "id": "3b11e70b-44ba-485b-a5a6-f8dd5c6009cd",
        "outputId": "c7a569c5-0431-4346-b607-b1d0d167e5e2"
      },
      "outputs": [
        {
          "name": "stderr",
          "output_type": "stream",
          "text": [
            "100%|██████████| 132/132 [00:00<00:00, 521.32it/s]\n"
          ]
        }
      ],
      "source": [
        "# Run inference\n",
        "preds_list = []\n",
        "batch_size = 64\n",
        "with torch.no_grad():\n",
        "    for inputs_test, _ in tqdm(dataloader_test):\n",
        "        if case == 'a': inputs_test = torch.reshape(inputs_test, (inputs_test.shape[0], -1))\n",
        "        inputs_test = inputs_test.to(torch.float).to('cuda')\n",
        "        preds_list.append(get_predictions(inputs_test, model).cpu().numpy())\n",
        "final_preds = np.argmax(np.reshape(np.vstack(preds_list), (-1,10)),1)"
      ]
    },
    {
      "cell_type": "code",
      "execution_count": 15,
      "id": "9e192ffc-2e00-4a8e-83c2-cb8727bf7d8f",
      "metadata": {
        "id": "9e192ffc-2e00-4a8e-83c2-cb8727bf7d8f"
      },
      "outputs": [],
      "source": [
        "# Generate all interesting metrics\n",
        "def multiclass_metrics(y_true, y_pred, labels):\n",
        "    \"\"\"\n",
        "    Compute per-class accuracy, sensitivity (recall), specificity, and precision.\n",
        "\n",
        "    y_true, y_pred : array-like of shape (n_samples,)\n",
        "    labels         : list of class labels, e.g. [0,1,...,9]\n",
        "    \"\"\"\n",
        "    # Compute the full confusion matrix once\n",
        "    cm = confusion_matrix(y_true, y_pred, labels=labels)\n",
        "    # cm[i, j] is count of true class i predicted as class j\n",
        "\n",
        "    # Prepare containers\n",
        "    metrics = {\n",
        "        \"class\": [],\n",
        "        \"accuracy\": [],\n",
        "        \"sensitivity (recall)\": [],\n",
        "        \"specificity\": [],\n",
        "        \"precision\": []\n",
        "    }\n",
        "\n",
        "    # Total samples\n",
        "    total = cm.sum()\n",
        "\n",
        "    for idx, cls in enumerate(labels):\n",
        "        TP = cm[idx, idx]\n",
        "        FN = cm[idx, :].sum() - TP\n",
        "        FP = cm[:, idx].sum() - TP\n",
        "        TN = total - TP - FP - FN\n",
        "\n",
        "        # Per-class metrics\n",
        "        acc = (TP + TN) / total\n",
        "        sens = TP / (TP + FN) if (TP + FN) > 0 else 0.0\n",
        "        spec = TN / (TN + FP) if (TN + FP) > 0 else 0.0\n",
        "        prec = TP / (TP + FP) if (TP + FP) > 0 else 0.0\n",
        "\n",
        "        metrics[\"class\"].append(cls)\n",
        "        metrics[\"accuracy\"].append(acc)\n",
        "        metrics[\"sensitivity (recall)\"].append(sens)\n",
        "        metrics[\"specificity\"].append(spec)\n",
        "        metrics[\"precision\"].append(prec)\n",
        "\n",
        "    return pd.DataFrame(metrics)\n"
      ]
    },
    {
      "cell_type": "code",
      "execution_count": 17,
      "id": "2ef7ecc0-0e98-47cd-9276-cc4e865c7c78",
      "metadata": {
        "colab": {
          "base_uri": "https://localhost:8080/",
          "height": 394
        },
        "id": "2ef7ecc0-0e98-47cd-9276-cc4e865c7c78",
        "outputId": "7147ae8c-9e4f-4ddc-81e2-a90c247ebd87"
      },
      "outputs": [
        {
          "data": {
            "application/vnd.google.colaboratory.intrinsic+json": {
              "summary": "{\n  \"name\": \"report_df\",\n  \"rows\": 10,\n  \"fields\": [\n    {\n      \"column\": \"class\",\n      \"properties\": {\n        \"dtype\": \"number\",\n        \"std\": 3,\n        \"min\": 0,\n        \"max\": 9,\n        \"num_unique_values\": 10,\n        \"samples\": [\n          8,\n          1,\n          5\n        ],\n        \"semantic_type\": \"\",\n        \"description\": \"\"\n      }\n    },\n    {\n      \"column\": \"accuracy\",\n      \"properties\": {\n        \"dtype\": \"number\",\n        \"std\": 0.001382866762833311,\n        \"min\": 0.9959523809523809,\n        \"max\": 0.9995238095238095,\n        \"num_unique_values\": 8,\n        \"samples\": [\n          0.9992857142857143,\n          0.9971428571428571,\n          0.9995238095238095\n        ],\n        \"semantic_type\": \"\",\n        \"description\": \"\"\n      }\n    },\n    {\n      \"column\": \"sensitivity (recall)\",\n      \"properties\": {\n        \"dtype\": \"number\",\n        \"std\": 0.007078704814577225,\n        \"min\": 0.9809069212410502,\n        \"max\": 0.9976076555023924,\n        \"num_unique_values\": 10,\n        \"samples\": [\n          0.9852216748768473,\n          0.9935897435897436,\n          0.9973684210526316\n        ],\n        \"semantic_type\": \"\",\n        \"description\": \"\"\n      }\n    },\n    {\n      \"column\": \"specificity\",\n      \"properties\": {\n        \"dtype\": \"number\",\n        \"std\": 0.0010147682683875445,\n        \"min\": 0.9971006852925672,\n        \"max\": 1.0,\n        \"num_unique_values\": 10,\n        \"samples\": [\n          0.9971006852925672,\n          1.0,\n          0.9994764397905759\n        ],\n        \"semantic_type\": \"\",\n        \"description\": \"\"\n      }\n    },\n    {\n      \"column\": \"precision\",\n      \"properties\": {\n        \"dtype\": \"number\",\n        \"std\": 0.009200519593548477,\n        \"min\": 0.9732360097323601,\n        \"max\": 1.0,\n        \"num_unique_values\": 10,\n        \"samples\": [\n          0.9732360097323601,\n          1.0,\n          0.994750656167979\n        ],\n        \"semantic_type\": \"\",\n        \"description\": \"\"\n      }\n    }\n  ]\n}",
              "type": "dataframe",
              "variable_name": "report_df"
            },
            "text/html": [
              "\n",
              "  <div id=\"df-c9228580-4930-46b4-9ceb-903f55f8f80a\" class=\"colab-df-container\">\n",
              "    <div>\n",
              "<style scoped>\n",
              "    .dataframe tbody tr th:only-of-type {\n",
              "        vertical-align: middle;\n",
              "    }\n",
              "\n",
              "    .dataframe tbody tr th {\n",
              "        vertical-align: top;\n",
              "    }\n",
              "\n",
              "    .dataframe thead th {\n",
              "        text-align: right;\n",
              "    }\n",
              "</style>\n",
              "<table border=\"1\" class=\"dataframe\">\n",
              "  <thead>\n",
              "    <tr style=\"text-align: right;\">\n",
              "      <th></th>\n",
              "      <th>accuracy</th>\n",
              "      <th>sensitivity (recall)</th>\n",
              "      <th>specificity</th>\n",
              "      <th>precision</th>\n",
              "    </tr>\n",
              "    <tr>\n",
              "      <th>class</th>\n",
              "      <th></th>\n",
              "      <th></th>\n",
              "      <th></th>\n",
              "      <th></th>\n",
              "    </tr>\n",
              "  </thead>\n",
              "  <tbody>\n",
              "    <tr>\n",
              "      <th>0</th>\n",
              "      <td>0.999524</td>\n",
              "      <td>0.997579</td>\n",
              "      <td>0.999736</td>\n",
              "      <td>0.997579</td>\n",
              "    </tr>\n",
              "    <tr>\n",
              "      <th>1</th>\n",
              "      <td>0.999286</td>\n",
              "      <td>0.993590</td>\n",
              "      <td>1.000000</td>\n",
              "      <td>1.000000</td>\n",
              "    </tr>\n",
              "    <tr>\n",
              "      <th>2</th>\n",
              "      <td>0.997857</td>\n",
              "      <td>0.997608</td>\n",
              "      <td>0.997885</td>\n",
              "      <td>0.981176</td>\n",
              "    </tr>\n",
              "    <tr>\n",
              "      <th>3</th>\n",
              "      <td>0.997619</td>\n",
              "      <td>0.981609</td>\n",
              "      <td>0.999469</td>\n",
              "      <td>0.995338</td>\n",
              "    </tr>\n",
              "    <tr>\n",
              "      <th>4</th>\n",
              "      <td>0.999524</td>\n",
              "      <td>0.997543</td>\n",
              "      <td>0.999736</td>\n",
              "      <td>0.997543</td>\n",
              "    </tr>\n",
              "    <tr>\n",
              "      <th>5</th>\n",
              "      <td>0.999286</td>\n",
              "      <td>0.997368</td>\n",
              "      <td>0.999476</td>\n",
              "      <td>0.994751</td>\n",
              "    </tr>\n",
              "    <tr>\n",
              "      <th>6</th>\n",
              "      <td>0.999048</td>\n",
              "      <td>0.992754</td>\n",
              "      <td>0.999736</td>\n",
              "      <td>0.997573</td>\n",
              "    </tr>\n",
              "    <tr>\n",
              "      <th>7</th>\n",
              "      <td>0.997143</td>\n",
              "      <td>0.984091</td>\n",
              "      <td>0.998670</td>\n",
              "      <td>0.988584</td>\n",
              "    </tr>\n",
              "    <tr>\n",
              "      <th>8</th>\n",
              "      <td>0.995952</td>\n",
              "      <td>0.985222</td>\n",
              "      <td>0.997101</td>\n",
              "      <td>0.973236</td>\n",
              "    </tr>\n",
              "    <tr>\n",
              "      <th>9</th>\n",
              "      <td>0.996190</td>\n",
              "      <td>0.980907</td>\n",
              "      <td>0.997884</td>\n",
              "      <td>0.980907</td>\n",
              "    </tr>\n",
              "  </tbody>\n",
              "</table>\n",
              "</div>\n",
              "    <div class=\"colab-df-buttons\">\n",
              "\n",
              "  <div class=\"colab-df-container\">\n",
              "    <button class=\"colab-df-convert\" onclick=\"convertToInteractive('df-c9228580-4930-46b4-9ceb-903f55f8f80a')\"\n",
              "            title=\"Convert this dataframe to an interactive table.\"\n",
              "            style=\"display:none;\">\n",
              "\n",
              "  <svg xmlns=\"http://www.w3.org/2000/svg\" height=\"24px\" viewBox=\"0 -960 960 960\">\n",
              "    <path d=\"M120-120v-720h720v720H120Zm60-500h600v-160H180v160Zm220 220h160v-160H400v160Zm0 220h160v-160H400v160ZM180-400h160v-160H180v160Zm440 0h160v-160H620v160ZM180-180h160v-160H180v160Zm440 0h160v-160H620v160Z\"/>\n",
              "  </svg>\n",
              "    </button>\n",
              "\n",
              "  <style>\n",
              "    .colab-df-container {\n",
              "      display:flex;\n",
              "      gap: 12px;\n",
              "    }\n",
              "\n",
              "    .colab-df-convert {\n",
              "      background-color: #E8F0FE;\n",
              "      border: none;\n",
              "      border-radius: 50%;\n",
              "      cursor: pointer;\n",
              "      display: none;\n",
              "      fill: #1967D2;\n",
              "      height: 32px;\n",
              "      padding: 0 0 0 0;\n",
              "      width: 32px;\n",
              "    }\n",
              "\n",
              "    .colab-df-convert:hover {\n",
              "      background-color: #E2EBFA;\n",
              "      box-shadow: 0px 1px 2px rgba(60, 64, 67, 0.3), 0px 1px 3px 1px rgba(60, 64, 67, 0.15);\n",
              "      fill: #174EA6;\n",
              "    }\n",
              "\n",
              "    .colab-df-buttons div {\n",
              "      margin-bottom: 4px;\n",
              "    }\n",
              "\n",
              "    [theme=dark] .colab-df-convert {\n",
              "      background-color: #3B4455;\n",
              "      fill: #D2E3FC;\n",
              "    }\n",
              "\n",
              "    [theme=dark] .colab-df-convert:hover {\n",
              "      background-color: #434B5C;\n",
              "      box-shadow: 0px 1px 3px 1px rgba(0, 0, 0, 0.15);\n",
              "      filter: drop-shadow(0px 1px 2px rgba(0, 0, 0, 0.3));\n",
              "      fill: #FFFFFF;\n",
              "    }\n",
              "  </style>\n",
              "\n",
              "    <script>\n",
              "      const buttonEl =\n",
              "        document.querySelector('#df-c9228580-4930-46b4-9ceb-903f55f8f80a button.colab-df-convert');\n",
              "      buttonEl.style.display =\n",
              "        google.colab.kernel.accessAllowed ? 'block' : 'none';\n",
              "\n",
              "      async function convertToInteractive(key) {\n",
              "        const element = document.querySelector('#df-c9228580-4930-46b4-9ceb-903f55f8f80a');\n",
              "        const dataTable =\n",
              "          await google.colab.kernel.invokeFunction('convertToInteractive',\n",
              "                                                    [key], {});\n",
              "        if (!dataTable) return;\n",
              "\n",
              "        const docLinkHtml = 'Like what you see? Visit the ' +\n",
              "          '<a target=\"_blank\" href=https://colab.research.google.com/notebooks/data_table.ipynb>data table notebook</a>'\n",
              "          + ' to learn more about interactive tables.';\n",
              "        element.innerHTML = '';\n",
              "        dataTable['output_type'] = 'display_data';\n",
              "        await google.colab.output.renderOutput(dataTable, element);\n",
              "        const docLink = document.createElement('div');\n",
              "        docLink.innerHTML = docLinkHtml;\n",
              "        element.appendChild(docLink);\n",
              "      }\n",
              "    </script>\n",
              "  </div>\n",
              "\n",
              "\n",
              "    <div id=\"df-3fa1e6fd-b937-4f79-824d-431d02502c80\">\n",
              "      <button class=\"colab-df-quickchart\" onclick=\"quickchart('df-3fa1e6fd-b937-4f79-824d-431d02502c80')\"\n",
              "                title=\"Suggest charts\"\n",
              "                style=\"display:none;\">\n",
              "\n",
              "<svg xmlns=\"http://www.w3.org/2000/svg\" height=\"24px\"viewBox=\"0 0 24 24\"\n",
              "     width=\"24px\">\n",
              "    <g>\n",
              "        <path d=\"M19 3H5c-1.1 0-2 .9-2 2v14c0 1.1.9 2 2 2h14c1.1 0 2-.9 2-2V5c0-1.1-.9-2-2-2zM9 17H7v-7h2v7zm4 0h-2V7h2v10zm4 0h-2v-4h2v4z\"/>\n",
              "    </g>\n",
              "</svg>\n",
              "      </button>\n",
              "\n",
              "<style>\n",
              "  .colab-df-quickchart {\n",
              "      --bg-color: #E8F0FE;\n",
              "      --fill-color: #1967D2;\n",
              "      --hover-bg-color: #E2EBFA;\n",
              "      --hover-fill-color: #174EA6;\n",
              "      --disabled-fill-color: #AAA;\n",
              "      --disabled-bg-color: #DDD;\n",
              "  }\n",
              "\n",
              "  [theme=dark] .colab-df-quickchart {\n",
              "      --bg-color: #3B4455;\n",
              "      --fill-color: #D2E3FC;\n",
              "      --hover-bg-color: #434B5C;\n",
              "      --hover-fill-color: #FFFFFF;\n",
              "      --disabled-bg-color: #3B4455;\n",
              "      --disabled-fill-color: #666;\n",
              "  }\n",
              "\n",
              "  .colab-df-quickchart {\n",
              "    background-color: var(--bg-color);\n",
              "    border: none;\n",
              "    border-radius: 50%;\n",
              "    cursor: pointer;\n",
              "    display: none;\n",
              "    fill: var(--fill-color);\n",
              "    height: 32px;\n",
              "    padding: 0;\n",
              "    width: 32px;\n",
              "  }\n",
              "\n",
              "  .colab-df-quickchart:hover {\n",
              "    background-color: var(--hover-bg-color);\n",
              "    box-shadow: 0 1px 2px rgba(60, 64, 67, 0.3), 0 1px 3px 1px rgba(60, 64, 67, 0.15);\n",
              "    fill: var(--button-hover-fill-color);\n",
              "  }\n",
              "\n",
              "  .colab-df-quickchart-complete:disabled,\n",
              "  .colab-df-quickchart-complete:disabled:hover {\n",
              "    background-color: var(--disabled-bg-color);\n",
              "    fill: var(--disabled-fill-color);\n",
              "    box-shadow: none;\n",
              "  }\n",
              "\n",
              "  .colab-df-spinner {\n",
              "    border: 2px solid var(--fill-color);\n",
              "    border-color: transparent;\n",
              "    border-bottom-color: var(--fill-color);\n",
              "    animation:\n",
              "      spin 1s steps(1) infinite;\n",
              "  }\n",
              "\n",
              "  @keyframes spin {\n",
              "    0% {\n",
              "      border-color: transparent;\n",
              "      border-bottom-color: var(--fill-color);\n",
              "      border-left-color: var(--fill-color);\n",
              "    }\n",
              "    20% {\n",
              "      border-color: transparent;\n",
              "      border-left-color: var(--fill-color);\n",
              "      border-top-color: var(--fill-color);\n",
              "    }\n",
              "    30% {\n",
              "      border-color: transparent;\n",
              "      border-left-color: var(--fill-color);\n",
              "      border-top-color: var(--fill-color);\n",
              "      border-right-color: var(--fill-color);\n",
              "    }\n",
              "    40% {\n",
              "      border-color: transparent;\n",
              "      border-right-color: var(--fill-color);\n",
              "      border-top-color: var(--fill-color);\n",
              "    }\n",
              "    60% {\n",
              "      border-color: transparent;\n",
              "      border-right-color: var(--fill-color);\n",
              "    }\n",
              "    80% {\n",
              "      border-color: transparent;\n",
              "      border-right-color: var(--fill-color);\n",
              "      border-bottom-color: var(--fill-color);\n",
              "    }\n",
              "    90% {\n",
              "      border-color: transparent;\n",
              "      border-bottom-color: var(--fill-color);\n",
              "    }\n",
              "  }\n",
              "</style>\n",
              "\n",
              "      <script>\n",
              "        async function quickchart(key) {\n",
              "          const quickchartButtonEl =\n",
              "            document.querySelector('#' + key + ' button');\n",
              "          quickchartButtonEl.disabled = true;  // To prevent multiple clicks.\n",
              "          quickchartButtonEl.classList.add('colab-df-spinner');\n",
              "          try {\n",
              "            const charts = await google.colab.kernel.invokeFunction(\n",
              "                'suggestCharts', [key], {});\n",
              "          } catch (error) {\n",
              "            console.error('Error during call to suggestCharts:', error);\n",
              "          }\n",
              "          quickchartButtonEl.classList.remove('colab-df-spinner');\n",
              "          quickchartButtonEl.classList.add('colab-df-quickchart-complete');\n",
              "        }\n",
              "        (() => {\n",
              "          let quickchartButtonEl =\n",
              "            document.querySelector('#df-3fa1e6fd-b937-4f79-824d-431d02502c80 button');\n",
              "          quickchartButtonEl.style.display =\n",
              "            google.colab.kernel.accessAllowed ? 'block' : 'none';\n",
              "        })();\n",
              "      </script>\n",
              "    </div>\n",
              "\n",
              "  <div id=\"id_b1b2ee25-a5e7-409a-8742-dc36d735d698\">\n",
              "    <style>\n",
              "      .colab-df-generate {\n",
              "        background-color: #E8F0FE;\n",
              "        border: none;\n",
              "        border-radius: 50%;\n",
              "        cursor: pointer;\n",
              "        display: none;\n",
              "        fill: #1967D2;\n",
              "        height: 32px;\n",
              "        padding: 0 0 0 0;\n",
              "        width: 32px;\n",
              "      }\n",
              "\n",
              "      .colab-df-generate:hover {\n",
              "        background-color: #E2EBFA;\n",
              "        box-shadow: 0px 1px 2px rgba(60, 64, 67, 0.3), 0px 1px 3px 1px rgba(60, 64, 67, 0.15);\n",
              "        fill: #174EA6;\n",
              "      }\n",
              "\n",
              "      [theme=dark] .colab-df-generate {\n",
              "        background-color: #3B4455;\n",
              "        fill: #D2E3FC;\n",
              "      }\n",
              "\n",
              "      [theme=dark] .colab-df-generate:hover {\n",
              "        background-color: #434B5C;\n",
              "        box-shadow: 0px 1px 3px 1px rgba(0, 0, 0, 0.15);\n",
              "        filter: drop-shadow(0px 1px 2px rgba(0, 0, 0, 0.3));\n",
              "        fill: #FFFFFF;\n",
              "      }\n",
              "    </style>\n",
              "    <button class=\"colab-df-generate\" onclick=\"generateWithVariable('report_df')\"\n",
              "            title=\"Generate code using this dataframe.\"\n",
              "            style=\"display:none;\">\n",
              "\n",
              "  <svg xmlns=\"http://www.w3.org/2000/svg\" height=\"24px\"viewBox=\"0 0 24 24\"\n",
              "       width=\"24px\">\n",
              "    <path d=\"M7,19H8.4L18.45,9,17,7.55,7,17.6ZM5,21V16.75L18.45,3.32a2,2,0,0,1,2.83,0l1.4,1.43a1.91,1.91,0,0,1,.58,1.4,1.91,1.91,0,0,1-.58,1.4L9.25,21ZM18.45,9,17,7.55Zm-12,3A5.31,5.31,0,0,0,4.9,8.1,5.31,5.31,0,0,0,1,6.5,5.31,5.31,0,0,0,4.9,4.9,5.31,5.31,0,0,0,6.5,1,5.31,5.31,0,0,0,8.1,4.9,5.31,5.31,0,0,0,12,6.5,5.46,5.46,0,0,0,6.5,12Z\"/>\n",
              "  </svg>\n",
              "    </button>\n",
              "    <script>\n",
              "      (() => {\n",
              "      const buttonEl =\n",
              "        document.querySelector('#id_b1b2ee25-a5e7-409a-8742-dc36d735d698 button.colab-df-generate');\n",
              "      buttonEl.style.display =\n",
              "        google.colab.kernel.accessAllowed ? 'block' : 'none';\n",
              "\n",
              "      buttonEl.onclick = () => {\n",
              "        google.colab.notebook.generateWithVariable('report_df');\n",
              "      }\n",
              "      })();\n",
              "    </script>\n",
              "  </div>\n",
              "\n",
              "    </div>\n",
              "  </div>\n"
            ],
            "text/plain": [
              "       accuracy  sensitivity (recall)  specificity  precision\n",
              "class                                                        \n",
              "0      0.999524              0.997579     0.999736   0.997579\n",
              "1      0.999286              0.993590     1.000000   1.000000\n",
              "2      0.997857              0.997608     0.997885   0.981176\n",
              "3      0.997619              0.981609     0.999469   0.995338\n",
              "4      0.999524              0.997543     0.999736   0.997543\n",
              "5      0.999286              0.997368     0.999476   0.994751\n",
              "6      0.999048              0.992754     0.999736   0.997573\n",
              "7      0.997143              0.984091     0.998670   0.988584\n",
              "8      0.995952              0.985222     0.997101   0.973236\n",
              "9      0.996190              0.980907     0.997884   0.980907"
            ]
          },
          "execution_count": 17,
          "metadata": {},
          "output_type": "execute_result"
        }
      ],
      "source": [
        "# Report the performance\n",
        "report_df = multiclass_metrics(test_labels, final_preds, np.arange(10).tolist()).set_index('class')\n",
        "report_df"
      ]
    },
    {
      "cell_type": "code",
      "execution_count": 18,
      "id": "f19e4fae",
      "metadata": {
        "colab": {
          "base_uri": "https://localhost:8080/",
          "height": 17
        },
        "id": "f19e4fae",
        "outputId": "a955eaf9-3d04-4d74-f41f-d7b91fdcc23c"
      },
      "outputs": [
        {
          "data": {
            "application/javascript": "\n    async function download(id, filename, size) {\n      if (!google.colab.kernel.accessAllowed) {\n        return;\n      }\n      const div = document.createElement('div');\n      const label = document.createElement('label');\n      label.textContent = `Downloading \"${filename}\": `;\n      div.appendChild(label);\n      const progress = document.createElement('progress');\n      progress.max = size;\n      div.appendChild(progress);\n      document.body.appendChild(div);\n\n      const buffers = [];\n      let downloaded = 0;\n\n      const channel = await google.colab.kernel.comms.open(id);\n      // Send a message to notify the kernel that we're ready.\n      channel.send({})\n\n      for await (const message of channel.messages) {\n        // Send a message to notify the kernel that we're ready.\n        channel.send({})\n        if (message.buffers) {\n          for (const buffer of message.buffers) {\n            buffers.push(buffer);\n            downloaded += buffer.byteLength;\n            progress.value = downloaded;\n          }\n        }\n      }\n      const blob = new Blob(buffers, {type: 'application/binary'});\n      const a = document.createElement('a');\n      a.href = window.URL.createObjectURL(blob);\n      a.download = filename;\n      div.appendChild(a);\n      a.click();\n      div.remove();\n    }\n  ",
            "text/plain": [
              "<IPython.core.display.Javascript object>"
            ]
          },
          "metadata": {},
          "output_type": "display_data"
        },
        {
          "data": {
            "application/javascript": "download(\"download_0e38653f-3b8a-4a84-960a-2641fed4078d\", \"classification_report_improved_caseb.csv\", 806)",
            "text/plain": [
              "<IPython.core.display.Javascript object>"
            ]
          },
          "metadata": {},
          "output_type": "display_data"
        }
      ],
      "source": [
        "# 1. Save the DataFrame to a CSV file\n",
        "report_df.to_csv(\"classification_report_improved_caseb.csv\")\n",
        "\n",
        "# 2. Download it from Colab to your computer\n",
        "from google.colab import files\n",
        "files.download(\"classification_report_improved_caseb.csv\")"
      ]
    },
    {
      "cell_type": "code",
      "execution_count": null,
      "id": "x2Hmr2LBZrE8",
      "metadata": {
        "id": "x2Hmr2LBZrE8"
      },
      "outputs": [],
      "source": []
    }
  ],
  "metadata": {
    "accelerator": "GPU",
    "colab": {
      "gpuType": "A100",
      "provenance": []
    },
    "kernelspec": {
      "display_name": "vetct_env",
      "language": "python",
      "name": "vetct_env"
    },
    "language_info": {
      "codemirror_mode": {
        "name": "ipython",
        "version": 3
      },
      "file_extension": ".py",
      "mimetype": "text/x-python",
      "name": "python",
      "nbconvert_exporter": "python",
      "pygments_lexer": "ipython3",
      "version": "3.10.4"
    }
  },
  "nbformat": 4,
  "nbformat_minor": 5
}
