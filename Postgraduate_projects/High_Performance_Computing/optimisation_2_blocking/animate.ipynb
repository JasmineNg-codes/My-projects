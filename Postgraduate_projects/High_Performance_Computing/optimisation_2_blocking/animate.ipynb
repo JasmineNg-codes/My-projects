{
 "cells": [
  {
   "cell_type": "code",
   "execution_count": null,
   "metadata": {},
   "outputs": [],
   "source": [
    "import numpy as np\n",
    "import matplotlib.pyplot as plt\n",
    "from matplotlib.animation import FuncAnimation\n",
    "import glob\n",
    "\n",
    "# Get list of all frame files\n",
    "frame_files = sorted(glob.glob('output/frame_*.txt'))\n",
    "\n",
    "# Read first frame to get dimensions\n",
    "first_frame = np.loadtxt(frame_files[0])\n",
    "height, width = first_frame.shape\n",
    "\n",
    "# Create figure and axis\n",
    "fig, ax = plt.subplots(figsize=(8,8))\n",
    "\n",
    "# Initialize plot with first frame\n",
    "img = ax.imshow(first_frame, cmap='hot')\n",
    "plt.colorbar(img)\n",
    "\n",
    "# Animation update function\n",
    "def update(frame):\n",
    "    data = np.loadtxt(frame_files[frame])\n",
    "    img.set_array(data)\n",
    "    return [img]\n",
    "\n",
    "# Create animation\n",
    "anim = FuncAnimation(fig, update, frames=len(frame_files), \n",
    "                    interval=100, blit=True)\n",
    "# Display animation in notebook\n",
    "from IPython.display import HTML\n",
    "HTML(anim.to_jshtml())\n"
   ]
  },
  {
   "cell_type": "code",
   "execution_count": null,
   "metadata": {},
   "outputs": [],
   "source": []
  }
 ],
 "metadata": {
  "kernelspec": {
   "display_name": "RC_Course",
   "language": "python",
   "name": "python3"
  },
  "language_info": {
   "codemirror_mode": {
    "name": "ipython",
    "version": 3
   },
   "file_extension": ".py",
   "mimetype": "text/x-python",
   "name": "python",
   "nbconvert_exporter": "python",
   "pygments_lexer": "ipython3",
   "version": "3.12.0"
  }
 },
 "nbformat": 4,
 "nbformat_minor": 2
}
